{
 "cells": [
  {
   "cell_type": "code",
   "execution_count": 1,
   "metadata": {},
   "outputs": [],
   "source": [
    "%load_ext autoreload\n",
    "%autoreload 2"
   ]
  },
  {
   "cell_type": "code",
   "execution_count": 14,
   "metadata": {},
   "outputs": [],
   "source": [
    "from soccertrack import load_df\n",
    "from pathlib import Path\n",
    "\n",
    "dataset_paths = sorted([\n",
    "    Path('/Users/atom/Github/TeamTrack/data/F_Basketball_Tokai/annotations'), \n",
    "    Path('/Users/atom/Github/TeamTrack/data/F_Handball_Nagoya_undistorted/annotations'), \n",
    "    Path('/Users/atom/Github/TeamTrack/data/F_Soccer_Tsukuba3/annotations')\n",
    "])"
   ]
  },
  {
   "cell_type": "code",
   "execution_count": 15,
   "metadata": {},
   "outputs": [
    {
     "data": {
      "text/plain": [
       "24"
      ]
     },
     "execution_count": 15,
     "metadata": {},
     "output_type": "execute_result"
    }
   ],
   "source": [
    "import json\n",
    "import cv2\n",
    "import numpy as np\n",
    "import pandas as pd\n",
    "from ast import literal_eval\n",
    "\n",
    "from soccertrack.logger import logger, set_log_level\n",
    "from soccertrack import CoordinatesDataFrame\n",
    "\n",
    "def read_json(path):\n",
    "    with open(path, \"r\") as f:\n",
    "        return json.load(f)\n",
    "\n",
    "\n",
    "def warp_bbox_to_point(H, bbox):\n",
    "    x, y, w, h = bbox\n",
    "    # point = np.array([[x + w / 2, y + h / 2]]).T\n",
    "    point = np.array([[x + w / 2, y + h]]).T\n",
    "    \n",
    "    point = cv2.perspectiveTransform(point.reshape(1, 1, 2), H).squeeze()\n",
    "    series = pd.Series(point)\n",
    "    series = series.rename({0: \"x\", 1: \"y\"})\n",
    "    return series\n",
    "\n",
    "def bbdf_to_codf(bbdf, H):\n",
    "    results = []\n",
    "    \n",
    "    # make sure the order of the attribute columns are correct\n",
    "    bbdf = bbdf.reindex([\"bb_left\", \"bb_top\", \"bb_width\", \"bb_height\"], level=\"Attributes\", axis=1)\n",
    "    \n",
    "    for i in bbdf.index:\n",
    "        groups = bbdf[bbdf.index == i].groupby(level=(0, 1), axis=1)\n",
    "        xy_series = groups.apply(lambda x: warp_bbox_to_point(H, x.squeeze().values[:4])).unstack()\n",
    "        results.append(xy_series)\n",
    "        \n",
    "    _codf = pd.DataFrame(results)\n",
    "    _codf.rename_axis([\"TeamID\", \"PlayerID\", \"Attributes\"], axis=1, inplace=True)\n",
    "    _codf.index.name = \"frame\"\n",
    "    # _codf.rename(columns={'3':'ball', '1':1, '0': 0}, inplace=True)\n",
    "\n",
    "    codf = CoordinatesDataFrame(_codf)\n",
    "    \n",
    "    return codf\n",
    "\n",
    "def calculate_homography(mapping):\n",
    "    source_keypoints, target_keypoints = [], []\n",
    "\n",
    "    for key, value in mapping.items():\n",
    "        source_keypoint = value\n",
    "        target_keypoint = literal_eval(key)\n",
    "        source_keypoints.append(source_keypoint)\n",
    "        target_keypoints.append(target_keypoint)\n",
    "    source_keypoints = np.array(source_keypoints)\n",
    "    target_keypoints = np.array(target_keypoints)\n",
    "    \n",
    "    H, *_ = cv2.findHomography(\n",
    "            source_keypoints, target_keypoints, cv2.RANSAC, 5.0\n",
    "        )\n",
    "    \n",
    "    projected_source_keypoints = cv2.perspectiveTransform(source_keypoints.reshape(-1,1,2), H).squeeze()\n",
    "    projection_error = np.linalg.norm(projected_source_keypoints - target_keypoints, axis=1).mean()\n",
    "    \n",
    "    logger.debug(f\"Projection error: {projection_error}\")\n",
    "    if projection_error > 1:\n",
    "        logger.warning(f\"Projection error is high(>1): {projection_error}\")\n",
    "    \n",
    "    return H\n",
    "\n",
    "def chunk_sequence(seq, chunk_size, overlap):\n",
    "    step = int(chunk_size * overlap)\n",
    "    chunks = [seq[i : i + chunk_size] for i in range(0, len(seq), step)]\n",
    "    if len(chunks[-1]) == chunk_size:\n",
    "        return chunks\n",
    "    return chunks[:-1]\n",
    "\n",
    "\n",
    "elements = list(range(900))\n",
    "chunk_size = 240\n",
    "overlap = 0.05\n",
    "\n",
    "chunks = chunk_sequence(elements, chunk_size, overlap)\n",
    "len(list(chunks)[-1])\n"
   ]
  },
  {
   "cell_type": "code",
   "execution_count": 16,
   "metadata": {},
   "outputs": [],
   "source": [
    "# print(dataset_paths)\n",
    "# dataset_path = dataset_paths[-1]\n",
    "\n",
    "# trajectory_dataset_path = Path('/Users/atom/Github/TeamTrack/data/trajectory_dataset')\n",
    "# sport_mapping = {\n",
    "#     'F_Basketball_Tokai': 'basketball',\n",
    "#     'F_Handball_Nagoya_undistorted': 'handball',\n",
    "#     'F_Soccer_Tsukuba3': 'soccer'\n",
    "# }\n",
    "\n",
    "# for dataset_path in dataset_paths:\n",
    "#     sport = sport_mapping[dataset_path.parent.name]\n",
    "\n",
    "#     mapping = read_json(f\"/Users/atom/Github/TeamTrack/data/{sport}_keypoints.json\")\n",
    "#     H = calculate_homography(mapping)\n",
    "#     csv_paths = sorted(dataset_path.glob('*.csv'))\n",
    "\n",
    "#     # split the csv_paths into train, val, test\n",
    "#     trainset_size, valset_size, testset_size = 0.7, 0.15, 0.15\n",
    "#     trainset_csv_paths = csv_paths[:int(len(csv_paths) * trainset_size)]\n",
    "#     valset_csv_paths = csv_paths[int(len(csv_paths) * trainset_size) : int(len(csv_paths) * (trainset_size + valset_size))]\n",
    "#     testset_csv_paths = csv_paths[int(len(csv_paths) * (trainset_size + valset_size)) :]\n",
    "\n",
    "#     dataset_mapping = {\n",
    "#         \"train\": trainset_csv_paths,\n",
    "#         \"val\": valset_csv_paths,\n",
    "#         \"test\": testset_csv_paths\n",
    "#     }\n",
    "#     print(len(trainset_csv_paths), len(valset_csv_paths), len(testset_csv_paths))\n",
    "    \n",
    "#     chunk_length = 240\n",
    "#     for dataset_type, csv_paths in dataset_mapping.items():\n",
    "#         for csv_path in csv_paths:\n",
    "#             bbdf = load_df(csv_path)\n",
    "#             bbdf = bbdf.reindex([\"bb_left\", \"bb_top\", \"bb_width\", \"bb_height\"], level=\"Attributes\", axis=1)\n",
    "#             bbdf.drop(columns=\"BALL\", level=\"TeamID\", inplace=True)\n",
    "\n",
    "#             codf = bbdf_to_codf(bbdf, H)\n",
    "#             chunks = chunk_sequence(codf.values, chunk_length, 0.05)\n",
    "            \n",
    "#             for i, chunk in enumerate(chunks):\n",
    "#                 save_path = trajectory_dataset_path / dataset_path.parent.name / dataset_type / f\"{csv_path.stem}_{i}.txt\"\n",
    "#                 save_path.parent.mkdir(parents=True, exist_ok=True)\n",
    "                \n",
    "#                 if chunk.shape[0] == chunk_length:\n",
    "#                     np.savetxt(save_path, chunk, delimiter=',')\n",
    "    \n",
    "#     print(f\"Finsihed {dataset_path.parent.name}!\")    "
   ]
  },
  {
   "cell_type": "code",
   "execution_count": 18,
   "metadata": {},
   "outputs": [],
   "source": [
    "# import shutil\n",
    "# f_all_dataset_path = Path('/Users/atom/Github/TeamTrack/data/trajectory_dataset/F_all')\n",
    "# for dataset_path in dataset_paths:\n",
    "#     dataset_path = trajectory_dataset_path / dataset_path.parent.name \n",
    "    \n",
    "#     # copy train test val to f_all\n",
    "#     for dataset_type in ['train', 'val', 'test']:\n",
    "#         dataset_type_path = dataset_path / dataset_type\n",
    "#         for txt_path in dataset_type_path.glob('*.txt'):\n",
    "#             save_path = f_all_dataset_path / dataset_type / txt_path.name\n",
    "#             save_path.parent.mkdir(parents=True, exist_ok=True)\n",
    "#             shutil.copy(txt_path, save_path)"
   ]
  },
  {
   "cell_type": "markdown",
   "metadata": {},
   "source": [
    "## Single Agent"
   ]
  },
  {
   "cell_type": "code",
   "execution_count": 40,
   "metadata": {},
   "outputs": [
    {
     "name": "stdout",
     "output_type": "stream",
     "text": [
      "torch.Size([559, 96, 2]) torch.Size([559, 144, 2])\n",
      "xmin: -5.876208305358887, xmax: 101.04420471191406, ymin: -10.785730361938477, ymax: 102.94783782958984\n",
      "xmean: 29.934797286987305, ymean: 29.59275245666504\n"
     ]
    }
   ],
   "source": [
    "from soccertrack.datasets.datasets.trajectory_datamodule import TrajectoryDataset, TrajectoryDataModule\n",
    "\n",
    "data_dir = trajectory_dataset_path / \"F_Soccer_Tsukuba3\"\n",
    "data_dir = trajectory_dataset_path / \"F_Basketball_Tokai\"\n",
    "data_dir = trajectory_dataset_path / \"F_Handball_Nagoya_undistorted\"\n",
    "data_dir = trajectory_dataset_path / \"F_all\"\n",
    "\n",
    "dm = TrajectoryDataModule(data_dir, single_agent=True, smooth=True, split=96)\n",
    "dm.setup()\n",
    "\n",
    "data_loader = dm.train_dataloader()\n",
    "\n",
    "for batch in data_loader:\n",
    "    x, y = batch\n",
    "    break\n",
    "\n",
    "print(x.shape, y.shape)\n",
    "print(f\"xmin: {x.min()}, xmax: {x.max()}, ymin: {y.min()}, ymax: {y.max()}\")\n",
    "print(f\"xmean: {x.mean()}, ymean: {y.mean()}\")"
   ]
  },
  {
   "cell_type": "code",
   "execution_count": 8,
   "metadata": {},
   "outputs": [
    {
     "data": {
      "text/plain": [
       "<matplotlib.collections.PathCollection at 0x17680aaa0>"
      ]
     },
     "execution_count": 8,
     "metadata": {},
     "output_type": "execute_result"
    },
    {
     "data": {
      "image/png": "[encoded data removed]",
      "text/plain": [
       "<Figure size 640x480 with 1 Axes>"
      ]
     },
     "metadata": {},
     "output_type": "display_data"
    }
   ],
   "source": [
    "# check the a single agent to see if the data is correct\n",
    "import matplotlib.pyplot as plt\n",
    "\n",
    "agent = x[83]\n",
    "\n",
    "plt.scatter(agent[:, 0], agent[:, 1])"
   ]
  },
  {
   "cell_type": "code",
   "execution_count": 9,
   "metadata": {},
   "outputs": [
    {
     "name": "stdout",
     "output_type": "stream",
     "text": [
      "x: torch.Size([448, 96, 2])\n",
      "torch.Size([448, 144, 2])\n",
      "torch.Size([448, 144, 2])\n",
      "torch.Size([448, 144, 2])\n"
     ]
    }
   ],
   "source": [
    "import torch\n",
    "from torchmetrics.functional import mean_squared_error\n",
    "from soccertrack.motion_model.models.lstm import SingleTargetLSTM\n",
    "from soccertrack.motion_model.models.mlp import SingleTargetMLP\n",
    "from soccertrack.motion_model.models.linear import SingleTargetLinear\n",
    "\n",
    "print(f\"x: {x.shape}\")\n",
    "lstm = SingleTargetLSTM(32)\n",
    "y_pred = lstm.roll_out(x, y.shape[1])\n",
    "print(y_pred.shape)\n",
    "\n",
    "mlp = SingleTargetMLP(input_dim=96*2, hidden_dims=[50, 50, 50], output_dim=2, dropout_prob=0.2)\n",
    "y_pred = mlp.roll_out(x, y.shape[1])\n",
    "print(y_pred.shape)\n",
    "\n",
    "linear = SingleTargetLinear(50)\n",
    "y_pred = linear.roll_out(x, y.shape[1])\n",
    "print(y_pred.shape)"
   ]
  },
  {
   "attachments": {},
   "cell_type": "markdown",
   "metadata": {},
   "source": [
    "## Multi-Agent "
   ]
  },
  {
   "cell_type": "code",
   "execution_count": 54,
   "metadata": {},
   "outputs": [
    {
     "name": "stdout",
     "output_type": "stream",
     "text": [
      "torch.Size([32, 96, 22, 2]) torch.Size([32, 144, 22, 2])\n"
     ]
    }
   ],
   "source": [
    "from soccertrack.datasets.datasets.trajectory_datamodule import TrajectoryDataset, TrajectoryDataModule\n",
    "\n",
    "data_dir = trajectory_dataset_path / \"F_all\"\n",
    "dm = TrajectoryDataModule(data_dir, single_agent=False, split=96, smooth=True)\n",
    "dm.setup()\n",
    "\n",
    "data_loader = dm.train_dataloader()\n",
    "\n",
    "for batch in data_loader:\n",
    "    x, y = batch\n",
    "    break\n",
    "\n",
    "print(x.shape, y.shape)"
   ]
  },
  {
   "cell_type": "code",
   "execution_count": 55,
   "metadata": {},
   "outputs": [
    {
     "name": "stdout",
     "output_type": "stream",
     "text": [
      "torch.Size([32, 96, 22, 2])\n"
     ]
    },
    {
     "data": {
      "text/plain": [
       "torch.Size([32, 96, 22, 2])"
      ]
     },
     "execution_count": 55,
     "metadata": {},
     "output_type": "execute_result"
    }
   ],
   "source": [
    "from einops import rearrange\n",
    "def random_ordering(data):\n",
    "    # randomize and flatten the agent axis\n",
    "    num_agents = data.shape[2]\n",
    "    data = data[:, :, torch.randperm(num_agents), :]\n",
    "    return data\n",
    "\n",
    "print(x.shape)\n",
    "random_ordering(x).shape"
   ]
  },
  {
   "cell_type": "code",
   "execution_count": 56,
   "metadata": {},
   "outputs": [
    {
     "name": "stdout",
     "output_type": "stream",
     "text": [
      "x: torch.Size([32, 96, 22, 2])\n",
      "torch.Size([32, 144, 22, 2])\n",
      "torch.Size([32, 144, 22, 2])\n"
     ]
    },
    {
     "data": {
      "text/plain": [
       "tensor(2.3597e+09, grad_fn=<DivBackward0>)"
      ]
     },
     "execution_count": 56,
     "metadata": {},
     "output_type": "execute_result"
    }
   ],
   "source": [
    "from soccertrack.motion_model.models.lstm import MultiTargetLSTM\n",
    "from soccertrack.motion_model.models.gnn import MultiTargetGNN, GCNEncoder\n",
    "\n",
    "print(f\"x: {x.shape}\")\n",
    "lstm = MultiTargetLSTM(44, 32)\n",
    "y_pred = lstm.forward(x)\n",
    "y_pred = lstm.roll_out(x, y.shape[1])\n",
    "print(y_pred.shape)\n",
    "\n",
    "gnn = MultiTargetGNN(input_channels=96*2, hidden_channels=50, output_channels=2, use_complete_graph=True)\n",
    "y_pred = gnn.forward(x)\n",
    "y_pred = gnn.roll_out(x, y.shape[1])\n",
    "print(y_pred.shape)\n",
    "\n",
    "mean_squared_error(y_pred, y)"
   ]
  },
  {
   "cell_type": "code",
   "execution_count": 22,
   "metadata": {},
   "outputs": [
    {
     "name": "stdout",
     "output_type": "stream",
     "text": [
      "torch.Size([96, 22, 2])\n"
     ]
    },
    {
     "data": {
      "image/png": "[encoded data removed]",
      "text/plain": [
       "<Figure size 640x480 with 1 Axes>"
      ]
     },
     "metadata": {},
     "output_type": "display_data"
    }
   ],
   "source": [
    "agent = x[0]\n",
    "plt.scatter(agent[:, :, 0], agent[:, :, 1])\n",
    "print(agent.shape)"
   ]
  },
  {
   "cell_type": "code",
   "execution_count": 8,
   "metadata": {},
   "outputs": [
    {
     "data": {
      "text/plain": [
       "tensor(27.1074, grad_fn=<SqrtBackward0>)"
      ]
     },
     "execution_count": 8,
     "metadata": {},
     "output_type": "execute_result"
    }
   ],
   "source": [
    "from pytorch_lightning import Trainer\n",
    "from soccertrack.motion_model.base_module import BaseMotionModule\n",
    "\n",
    "\n",
    "module = BaseMotionModule(model=lstm, roll_out_steps=144)\n",
    "module.roll_out(x, y.shape[1])\n",
    "module.training_step(batch, 0)"
   ]
  },
  {
   "cell_type": "code",
   "execution_count": 94,
   "metadata": {},
   "outputs": [
    {
     "data": {
      "text/plain": [
       "<matplotlib.collections.PathCollection at 0x29d1eca90>"
      ]
     },
     "execution_count": 94,
     "metadata": {},
     "output_type": "execute_result"
    },
    {
     "data": {
      "image/png": "[encoded data removed]",
      "text/plain": [
       "<Figure size 640x480 with 1 Axes>"
      ]
     },
     "metadata": {},
     "output_type": "display_data"
    }
   ],
   "source": [
    "from soccertrack.motion_model.models.linear import SingleTargetLinear\n",
    "\n",
    "linear = SingleTargetLinear(50)\n",
    "\n",
    "# # predict velocity using the last 5 frames\n",
    "v =  x[0, -5:, :].diff(axis=0).mean(axis=0)\n",
    "\n",
    "# predict the next 30 frames\n",
    "y_pred = []\n",
    "for i in range(30):\n",
    "    y_pred.append(x[0, -1, :] + v * (i+1))\n",
    "\n",
    "agent = x[0]\n",
    "plt.scatter(agent[:, 0], agent[:, 1])\n",
    "\n",
    "y_pred = torch.stack(y_pred)\n",
    "plt.scatter(y_pred[:, 0], y_pred[:, 1])\n",
    "\n",
    "y_pred2 = linear.roll_out(x, 30)[0]\n",
    "plt.scatter(y_pred2[:, 0], y_pred2[:, 1])"
   ]
  }
 ],
 "metadata": {
  "kernelspec": {
   "display_name": "teamtrack-HUq4qnoM-py3.10",
   "language": "python",
   "name": "python3"
  },
  "language_info": {
   "codemirror_mode": {
    "name": "ipython",
    "version": 3
   },
   "file_extension": ".py",
   "mimetype": "text/x-python",
   "name": "python",
   "nbconvert_exporter": "python",
   "pygments_lexer": "ipython3",
   "version": "3.10.11"
  },
  "orig_nbformat": 4,
  "vscode": {
   "interpreter": {
    "hash": "509d0ee37caf227ebf5a422b61bfb2ec10b7174066889eec67c000d5de931b19"
   }
  }
 },
 "nbformat": 4,
 "nbformat_minor": 2
}
